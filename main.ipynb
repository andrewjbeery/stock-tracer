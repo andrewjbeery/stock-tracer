{
 "cells": [
  {
   "cell_type": "markdown",
   "metadata": {},
   "source": [
    "# stock tracer"
   ]
  },
  {
   "cell_type": "code",
   "execution_count": 1,
   "metadata": {},
   "outputs": [
    {
     "name": "stdout",
     "output_type": "stream",
     "text": [
      "Requirement already satisfied: yfinance in c:\\users\\ajb33\\stock-tracer\\test\\lib\\site-packages (from -r requirements.txt (line 1)) (0.2.48)\n",
      "Requirement already satisfied: pandas in c:\\users\\ajb33\\stock-tracer\\test\\lib\\site-packages (from -r requirements.txt (line 2)) (2.2.3)\n",
      "Requirement already satisfied: matplotlib in c:\\users\\ajb33\\stock-tracer\\test\\lib\\site-packages (from -r requirements.txt (line 3)) (3.9.2)\n",
      "Requirement already satisfied: google-auth-oauthlib in c:\\users\\ajb33\\stock-tracer\\test\\lib\\site-packages (from -r requirements.txt (line 4)) (1.2.1)\n",
      "Requirement already satisfied: google-auth in c:\\users\\ajb33\\stock-tracer\\test\\lib\\site-packages (from -r requirements.txt (line 5)) (2.35.0)\n",
      "Requirement already satisfied: google-api-python-client in c:\\users\\ajb33\\stock-tracer\\test\\lib\\site-packages (from -r requirements.txt (line 6)) (2.149.0)\n",
      "Requirement already satisfied: numpy>=1.16.5 in c:\\users\\ajb33\\stock-tracer\\test\\lib\\site-packages (from yfinance->-r requirements.txt (line 1)) (2.1.2)\n",
      "Requirement already satisfied: requests>=2.31 in c:\\users\\ajb33\\stock-tracer\\test\\lib\\site-packages (from yfinance->-r requirements.txt (line 1)) (2.32.3)\n",
      "Requirement already satisfied: multitasking>=0.0.7 in c:\\users\\ajb33\\stock-tracer\\test\\lib\\site-packages (from yfinance->-r requirements.txt (line 1)) (0.0.11)\n",
      "Requirement already satisfied: lxml>=4.9.1 in c:\\users\\ajb33\\stock-tracer\\test\\lib\\site-packages (from yfinance->-r requirements.txt (line 1)) (5.3.0)\n",
      "Requirement already satisfied: platformdirs>=2.0.0 in c:\\users\\ajb33\\stock-tracer\\test\\lib\\site-packages (from yfinance->-r requirements.txt (line 1)) (4.3.6)\n",
      "Requirement already satisfied: pytz>=2022.5 in c:\\users\\ajb33\\stock-tracer\\test\\lib\\site-packages (from yfinance->-r requirements.txt (line 1)) (2024.2)\n",
      "Requirement already satisfied: frozendict>=2.3.4 in c:\\users\\ajb33\\stock-tracer\\test\\lib\\site-packages (from yfinance->-r requirements.txt (line 1)) (2.4.6)\n",
      "Requirement already satisfied: peewee>=3.16.2 in c:\\users\\ajb33\\stock-tracer\\test\\lib\\site-packages (from yfinance->-r requirements.txt (line 1)) (3.17.7)\n",
      "Requirement already satisfied: beautifulsoup4>=4.11.1 in c:\\users\\ajb33\\stock-tracer\\test\\lib\\site-packages (from yfinance->-r requirements.txt (line 1)) (4.12.3)\n",
      "Requirement already satisfied: html5lib>=1.1 in c:\\users\\ajb33\\stock-tracer\\test\\lib\\site-packages (from yfinance->-r requirements.txt (line 1)) (1.1)\n",
      "Requirement already satisfied: python-dateutil>=2.8.2 in c:\\users\\ajb33\\stock-tracer\\test\\lib\\site-packages (from pandas->-r requirements.txt (line 2)) (2.9.0.post0)\n",
      "Requirement already satisfied: tzdata>=2022.7 in c:\\users\\ajb33\\stock-tracer\\test\\lib\\site-packages (from pandas->-r requirements.txt (line 2)) (2024.2)\n",
      "Requirement already satisfied: contourpy>=1.0.1 in c:\\users\\ajb33\\stock-tracer\\test\\lib\\site-packages (from matplotlib->-r requirements.txt (line 3)) (1.3.0)\n",
      "Requirement already satisfied: cycler>=0.10 in c:\\users\\ajb33\\stock-tracer\\test\\lib\\site-packages (from matplotlib->-r requirements.txt (line 3)) (0.12.1)\n",
      "Requirement already satisfied: fonttools>=4.22.0 in c:\\users\\ajb33\\stock-tracer\\test\\lib\\site-packages (from matplotlib->-r requirements.txt (line 3)) (4.54.1)\n",
      "Requirement already satisfied: kiwisolver>=1.3.1 in c:\\users\\ajb33\\stock-tracer\\test\\lib\\site-packages (from matplotlib->-r requirements.txt (line 3)) (1.4.7)\n",
      "Requirement already satisfied: packaging>=20.0 in c:\\users\\ajb33\\stock-tracer\\test\\lib\\site-packages (from matplotlib->-r requirements.txt (line 3)) (24.1)\n",
      "Requirement already satisfied: pillow>=8 in c:\\users\\ajb33\\stock-tracer\\test\\lib\\site-packages (from matplotlib->-r requirements.txt (line 3)) (11.0.0)\n",
      "Requirement already satisfied: pyparsing>=2.3.1 in c:\\users\\ajb33\\stock-tracer\\test\\lib\\site-packages (from matplotlib->-r requirements.txt (line 3)) (3.2.0)\n",
      "Requirement already satisfied: requests-oauthlib>=0.7.0 in c:\\users\\ajb33\\stock-tracer\\test\\lib\\site-packages (from google-auth-oauthlib->-r requirements.txt (line 4)) (2.0.0)\n",
      "Requirement already satisfied: cachetools<6.0,>=2.0.0 in c:\\users\\ajb33\\stock-tracer\\test\\lib\\site-packages (from google-auth->-r requirements.txt (line 5)) (5.5.0)\n",
      "Requirement already satisfied: pyasn1-modules>=0.2.1 in c:\\users\\ajb33\\stock-tracer\\test\\lib\\site-packages (from google-auth->-r requirements.txt (line 5)) (0.4.1)\n",
      "Requirement already satisfied: rsa<5,>=3.1.4 in c:\\users\\ajb33\\stock-tracer\\test\\lib\\site-packages (from google-auth->-r requirements.txt (line 5)) (4.9)\n",
      "Requirement already satisfied: httplib2<1.dev0,>=0.19.0 in c:\\users\\ajb33\\stock-tracer\\test\\lib\\site-packages (from google-api-python-client->-r requirements.txt (line 6)) (0.22.0)\n",
      "Requirement already satisfied: google-auth-httplib2<1.0.0,>=0.2.0 in c:\\users\\ajb33\\stock-tracer\\test\\lib\\site-packages (from google-api-python-client->-r requirements.txt (line 6)) (0.2.0)\n",
      "Requirement already satisfied: google-api-core!=2.0.*,!=2.1.*,!=2.2.*,!=2.3.0,<3.0.0.dev0,>=1.31.5 in c:\\users\\ajb33\\stock-tracer\\test\\lib\\site-packages (from google-api-python-client->-r requirements.txt (line 6)) (2.22.0)\n",
      "Requirement already satisfied: uritemplate<5,>=3.0.1 in c:\\users\\ajb33\\stock-tracer\\test\\lib\\site-packages (from google-api-python-client->-r requirements.txt (line 6)) (4.1.1)\n",
      "Requirement already satisfied: soupsieve>1.2 in c:\\users\\ajb33\\stock-tracer\\test\\lib\\site-packages (from beautifulsoup4>=4.11.1->yfinance->-r requirements.txt (line 1)) (2.6)\n",
      "Requirement already satisfied: googleapis-common-protos<2.0.dev0,>=1.56.2 in c:\\users\\ajb33\\stock-tracer\\test\\lib\\site-packages (from google-api-core!=2.0.*,!=2.1.*,!=2.2.*,!=2.3.0,<3.0.0.dev0,>=1.31.5->google-api-python-client->-r requirements.txt (line 6)) (1.65.0)\n",
      "Requirement already satisfied: protobuf!=3.20.0,!=3.20.1,!=4.21.0,!=4.21.1,!=4.21.2,!=4.21.3,!=4.21.4,!=4.21.5,<6.0.0.dev0,>=3.19.5 in c:\\users\\ajb33\\stock-tracer\\test\\lib\\site-packages (from google-api-core!=2.0.*,!=2.1.*,!=2.2.*,!=2.3.0,<3.0.0.dev0,>=1.31.5->google-api-python-client->-r requirements.txt (line 6)) (5.28.3)\n",
      "Requirement already satisfied: proto-plus<2.0.0dev,>=1.22.3 in c:\\users\\ajb33\\stock-tracer\\test\\lib\\site-packages (from google-api-core!=2.0.*,!=2.1.*,!=2.2.*,!=2.3.0,<3.0.0.dev0,>=1.31.5->google-api-python-client->-r requirements.txt (line 6)) (1.25.0)\n",
      "Requirement already satisfied: six>=1.9 in c:\\users\\ajb33\\stock-tracer\\test\\lib\\site-packages (from html5lib>=1.1->yfinance->-r requirements.txt (line 1)) (1.16.0)\n",
      "Requirement already satisfied: webencodings in c:\\users\\ajb33\\stock-tracer\\test\\lib\\site-packages (from html5lib>=1.1->yfinance->-r requirements.txt (line 1)) (0.5.1)\n",
      "Requirement already satisfied: pyasn1<0.7.0,>=0.4.6 in c:\\users\\ajb33\\stock-tracer\\test\\lib\\site-packages (from pyasn1-modules>=0.2.1->google-auth->-r requirements.txt (line 5)) (0.6.1)\n",
      "Requirement already satisfied: charset-normalizer<4,>=2 in c:\\users\\ajb33\\stock-tracer\\test\\lib\\site-packages (from requests>=2.31->yfinance->-r requirements.txt (line 1)) (3.4.0)\n",
      "Requirement already satisfied: idna<4,>=2.5 in c:\\users\\ajb33\\stock-tracer\\test\\lib\\site-packages (from requests>=2.31->yfinance->-r requirements.txt (line 1)) (3.10)\n",
      "Requirement already satisfied: urllib3<3,>=1.21.1 in c:\\users\\ajb33\\stock-tracer\\test\\lib\\site-packages (from requests>=2.31->yfinance->-r requirements.txt (line 1)) (2.2.3)\n",
      "Requirement already satisfied: certifi>=2017.4.17 in c:\\users\\ajb33\\stock-tracer\\test\\lib\\site-packages (from requests>=2.31->yfinance->-r requirements.txt (line 1)) (2024.8.30)\n",
      "Requirement already satisfied: oauthlib>=3.0.0 in c:\\users\\ajb33\\stock-tracer\\test\\lib\\site-packages (from requests-oauthlib>=0.7.0->google-auth-oauthlib->-r requirements.txt (line 4)) (3.2.2)\n",
      "Note: you may need to restart the kernel to use updated packages.\n"
     ]
    },
    {
     "name": "stderr",
     "output_type": "stream",
     "text": [
      "\n",
      "[notice] A new release of pip is available: 24.0 -> 24.3.1\n",
      "[notice] To update, run: python.exe -m pip install --upgrade pip\n"
     ]
    }
   ],
   "source": [
    "%pip install -r requirements.txt"
   ]
  },
  {
   "cell_type": "code",
   "execution_count": 2,
   "metadata": {},
   "outputs": [],
   "source": [
    "import json\n",
    "from helpers import email_create"
   ]
  },
  {
   "cell_type": "code",
   "execution_count": 3,
   "metadata": {},
   "outputs": [],
   "source": [
    "with open(\"holdings.json\", \"r\") as json_file:\n",
    "    holdings = json.load(json_file)"
   ]
  },
  {
   "cell_type": "code",
   "execution_count": 4,
   "metadata": {},
   "outputs": [
    {
     "name": "stdout",
     "output_type": "stream",
     "text": [
      "Email sent successfully: 192e0114a0896c43\n"
     ]
    }
   ],
   "source": [
    "# Define the Gmail API scope\n",
    "sender = \"andrewjosephbeery@gmail.com\"\n",
    "to = \"andrewjbeery@gmail.com\"\n",
    "\n",
    "email_create(sender, to, holdings)\n"
   ]
  }
 ],
 "metadata": {
  "kernelspec": {
   "display_name": "test",
   "language": "python",
   "name": "python3"
  },
  "language_info": {
   "codemirror_mode": {
    "name": "ipython",
    "version": 3
   },
   "file_extension": ".py",
   "mimetype": "text/x-python",
   "name": "python",
   "nbconvert_exporter": "python",
   "pygments_lexer": "ipython3",
   "version": "3.11.9"
  }
 },
 "nbformat": 4,
 "nbformat_minor": 2
}
